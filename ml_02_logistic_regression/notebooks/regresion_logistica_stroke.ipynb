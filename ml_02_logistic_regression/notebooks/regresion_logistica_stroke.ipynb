{
 "cells": [
  {
   "cell_type": "markdown",
   "id": "66180288",
   "metadata": {},
   "source": [
    " Imports"
   ]
  },
  {
   "cell_type": "code",
   "execution_count": 2,
   "id": "cb95db2b",
   "metadata": {},
   "outputs": [
    {
     "name": "stdout",
     "output_type": "stream",
     "text": [
      "Libraries imported.\n"
     ]
    }
   ],
   "source": [
    "import pandas as pd\n",
    "import numpy as np\n",
    "import matplotlib.pyplot as plt\n",
    "import seaborn as sns\n",
    "\n",
    "from sklearn.model_selection import train_test_split\n",
    "from sklearn.linear_model import LogisticRegression\n",
    "from sklearn.preprocessing import StandardScaler, OneHotEncoder # For preprocessing\n",
    "from sklearn.compose import ColumnTransformer # For applying different transformers to different columns\n",
    "from sklearn.pipeline import Pipeline # To chain steps\n",
    "from sklearn.metrics import accuracy_score, confusion_matrix, classification_report, roc_auc_score, roc_curve\n",
    "\n",
    "sns.set_theme(style=\"whitegrid\")\n",
    "pd.set_option('display.max_columns', None)\n",
    "print(\"Libraries imported.\")"
   ]
  },
  {
   "cell_type": "markdown",
   "id": "2b4dbf92",
   "metadata": {},
   "source": [
    " Load and Initial Prep (Stroke Dataset)"
   ]
  },
  {
   "cell_type": "code",
   "execution_count": 3,
   "id": "d19b5d8e",
   "metadata": {},
   "outputs": [
    {
     "name": "stdout",
     "output_type": "stream",
     "text": [
      "Stroke dataset loaded successfully.\n"
     ]
    },
    {
     "data": {
      "application/vnd.microsoft.datawrangler.viewer.v0+json": {
       "columns": [
        {
         "name": "index",
         "rawType": "int64",
         "type": "integer"
        },
        {
         "name": "id",
         "rawType": "int64",
         "type": "integer"
        },
        {
         "name": "gender",
         "rawType": "object",
         "type": "string"
        },
        {
         "name": "age",
         "rawType": "float64",
         "type": "float"
        },
        {
         "name": "hypertension",
         "rawType": "int64",
         "type": "integer"
        },
        {
         "name": "heart_disease",
         "rawType": "int64",
         "type": "integer"
        },
        {
         "name": "ever_married",
         "rawType": "object",
         "type": "string"
        },
        {
         "name": "work_type",
         "rawType": "object",
         "type": "string"
        },
        {
         "name": "Residence_type",
         "rawType": "object",
         "type": "string"
        },
        {
         "name": "avg_glucose_level",
         "rawType": "float64",
         "type": "float"
        },
        {
         "name": "bmi",
         "rawType": "float64",
         "type": "float"
        },
        {
         "name": "smoking_status",
         "rawType": "object",
         "type": "string"
        },
        {
         "name": "stroke",
         "rawType": "int64",
         "type": "integer"
        }
       ],
       "ref": "5cc5bc04-667a-4c5e-831d-12990809dbad",
       "rows": [
        [
         "0",
         "9046",
         "Male",
         "67.0",
         "0",
         "1",
         "Yes",
         "Private",
         "Urban",
         "228.69",
         "36.6",
         "formerly smoked",
         "1"
        ],
        [
         "1",
         "51676",
         "Female",
         "61.0",
         "0",
         "0",
         "Yes",
         "Self-employed",
         "Rural",
         "202.21",
         null,
         "never smoked",
         "1"
        ],
        [
         "2",
         "31112",
         "Male",
         "80.0",
         "0",
         "1",
         "Yes",
         "Private",
         "Rural",
         "105.92",
         "32.5",
         "never smoked",
         "1"
        ],
        [
         "3",
         "60182",
         "Female",
         "49.0",
         "0",
         "0",
         "Yes",
         "Private",
         "Urban",
         "171.23",
         "34.4",
         "smokes",
         "1"
        ],
        [
         "4",
         "1665",
         "Female",
         "79.0",
         "1",
         "0",
         "Yes",
         "Self-employed",
         "Rural",
         "174.12",
         "24.0",
         "never smoked",
         "1"
        ]
       ],
       "shape": {
        "columns": 12,
        "rows": 5
       }
      },
      "text/html": [
       "<div>\n",
       "<style scoped>\n",
       "    .dataframe tbody tr th:only-of-type {\n",
       "        vertical-align: middle;\n",
       "    }\n",
       "\n",
       "    .dataframe tbody tr th {\n",
       "        vertical-align: top;\n",
       "    }\n",
       "\n",
       "    .dataframe thead th {\n",
       "        text-align: right;\n",
       "    }\n",
       "</style>\n",
       "<table border=\"1\" class=\"dataframe\">\n",
       "  <thead>\n",
       "    <tr style=\"text-align: right;\">\n",
       "      <th></th>\n",
       "      <th>id</th>\n",
       "      <th>gender</th>\n",
       "      <th>age</th>\n",
       "      <th>hypertension</th>\n",
       "      <th>heart_disease</th>\n",
       "      <th>ever_married</th>\n",
       "      <th>work_type</th>\n",
       "      <th>Residence_type</th>\n",
       "      <th>avg_glucose_level</th>\n",
       "      <th>bmi</th>\n",
       "      <th>smoking_status</th>\n",
       "      <th>stroke</th>\n",
       "    </tr>\n",
       "  </thead>\n",
       "  <tbody>\n",
       "    <tr>\n",
       "      <th>0</th>\n",
       "      <td>9046</td>\n",
       "      <td>Male</td>\n",
       "      <td>67.0</td>\n",
       "      <td>0</td>\n",
       "      <td>1</td>\n",
       "      <td>Yes</td>\n",
       "      <td>Private</td>\n",
       "      <td>Urban</td>\n",
       "      <td>228.69</td>\n",
       "      <td>36.6</td>\n",
       "      <td>formerly smoked</td>\n",
       "      <td>1</td>\n",
       "    </tr>\n",
       "    <tr>\n",
       "      <th>1</th>\n",
       "      <td>51676</td>\n",
       "      <td>Female</td>\n",
       "      <td>61.0</td>\n",
       "      <td>0</td>\n",
       "      <td>0</td>\n",
       "      <td>Yes</td>\n",
       "      <td>Self-employed</td>\n",
       "      <td>Rural</td>\n",
       "      <td>202.21</td>\n",
       "      <td>NaN</td>\n",
       "      <td>never smoked</td>\n",
       "      <td>1</td>\n",
       "    </tr>\n",
       "    <tr>\n",
       "      <th>2</th>\n",
       "      <td>31112</td>\n",
       "      <td>Male</td>\n",
       "      <td>80.0</td>\n",
       "      <td>0</td>\n",
       "      <td>1</td>\n",
       "      <td>Yes</td>\n",
       "      <td>Private</td>\n",
       "      <td>Rural</td>\n",
       "      <td>105.92</td>\n",
       "      <td>32.5</td>\n",
       "      <td>never smoked</td>\n",
       "      <td>1</td>\n",
       "    </tr>\n",
       "    <tr>\n",
       "      <th>3</th>\n",
       "      <td>60182</td>\n",
       "      <td>Female</td>\n",
       "      <td>49.0</td>\n",
       "      <td>0</td>\n",
       "      <td>0</td>\n",
       "      <td>Yes</td>\n",
       "      <td>Private</td>\n",
       "      <td>Urban</td>\n",
       "      <td>171.23</td>\n",
       "      <td>34.4</td>\n",
       "      <td>smokes</td>\n",
       "      <td>1</td>\n",
       "    </tr>\n",
       "    <tr>\n",
       "      <th>4</th>\n",
       "      <td>1665</td>\n",
       "      <td>Female</td>\n",
       "      <td>79.0</td>\n",
       "      <td>1</td>\n",
       "      <td>0</td>\n",
       "      <td>Yes</td>\n",
       "      <td>Self-employed</td>\n",
       "      <td>Rural</td>\n",
       "      <td>174.12</td>\n",
       "      <td>24.0</td>\n",
       "      <td>never smoked</td>\n",
       "      <td>1</td>\n",
       "    </tr>\n",
       "  </tbody>\n",
       "</table>\n",
       "</div>"
      ],
      "text/plain": [
       "      id  gender   age  hypertension  heart_disease ever_married  \\\n",
       "0   9046    Male  67.0             0              1          Yes   \n",
       "1  51676  Female  61.0             0              0          Yes   \n",
       "2  31112    Male  80.0             0              1          Yes   \n",
       "3  60182  Female  49.0             0              0          Yes   \n",
       "4   1665  Female  79.0             1              0          Yes   \n",
       "\n",
       "       work_type Residence_type  avg_glucose_level   bmi   smoking_status  \\\n",
       "0        Private          Urban             228.69  36.6  formerly smoked   \n",
       "1  Self-employed          Rural             202.21   NaN     never smoked   \n",
       "2        Private          Rural             105.92  32.5     never smoked   \n",
       "3        Private          Urban             171.23  34.4           smokes   \n",
       "4  Self-employed          Rural             174.12  24.0     never smoked   \n",
       "\n",
       "   stroke  \n",
       "0       1  \n",
       "1       1  \n",
       "2       1  \n",
       "3       1  \n",
       "4       1  "
      ]
     },
     "metadata": {},
     "output_type": "display_data"
    },
    {
     "name": "stdout",
     "output_type": "stream",
     "text": [
      "<class 'pandas.core.frame.DataFrame'>\n",
      "RangeIndex: 5110 entries, 0 to 5109\n",
      "Data columns (total 12 columns):\n",
      " #   Column             Non-Null Count  Dtype  \n",
      "---  ------             --------------  -----  \n",
      " 0   id                 5110 non-null   int64  \n",
      " 1   gender             5110 non-null   object \n",
      " 2   age                5110 non-null   float64\n",
      " 3   hypertension       5110 non-null   int64  \n",
      " 4   heart_disease      5110 non-null   int64  \n",
      " 5   ever_married       5110 non-null   object \n",
      " 6   work_type          5110 non-null   object \n",
      " 7   Residence_type     5110 non-null   object \n",
      " 8   avg_glucose_level  5110 non-null   float64\n",
      " 9   bmi                4909 non-null   float64\n",
      " 10  smoking_status     5110 non-null   object \n",
      " 11  stroke             5110 non-null   int64  \n",
      "dtypes: float64(3), int64(4), object(5)\n",
      "memory usage: 479.2+ KB\n",
      "\n",
      "Dataset after initial cleaning and BMI imputation:\n",
      "Missing values sum:\n",
      "0\n"
     ]
    },
    {
     "data": {
      "application/vnd.microsoft.datawrangler.viewer.v0+json": {
       "columns": [
        {
         "name": "index",
         "rawType": "int64",
         "type": "integer"
        },
        {
         "name": "gender",
         "rawType": "object",
         "type": "string"
        },
        {
         "name": "age",
         "rawType": "float64",
         "type": "float"
        },
        {
         "name": "hypertension",
         "rawType": "int64",
         "type": "integer"
        },
        {
         "name": "heart_disease",
         "rawType": "int64",
         "type": "integer"
        },
        {
         "name": "ever_married",
         "rawType": "object",
         "type": "string"
        },
        {
         "name": "work_type",
         "rawType": "object",
         "type": "string"
        },
        {
         "name": "Residence_type",
         "rawType": "object",
         "type": "string"
        },
        {
         "name": "avg_glucose_level",
         "rawType": "float64",
         "type": "float"
        },
        {
         "name": "bmi",
         "rawType": "float64",
         "type": "float"
        },
        {
         "name": "smoking_status",
         "rawType": "object",
         "type": "string"
        },
        {
         "name": "stroke",
         "rawType": "int64",
         "type": "integer"
        }
       ],
       "ref": "d5a6ca98-474b-4adf-98ff-d44ed14bc587",
       "rows": [
        [
         "0",
         "Male",
         "67.0",
         "0",
         "1",
         "Yes",
         "Private",
         "Urban",
         "228.69",
         "36.6",
         "formerly smoked",
         "1"
        ],
        [
         "1",
         "Female",
         "61.0",
         "0",
         "0",
         "Yes",
         "Self-employed",
         "Rural",
         "202.21",
         "28.1",
         "never smoked",
         "1"
        ],
        [
         "2",
         "Male",
         "80.0",
         "0",
         "1",
         "Yes",
         "Private",
         "Rural",
         "105.92",
         "32.5",
         "never smoked",
         "1"
        ],
        [
         "3",
         "Female",
         "49.0",
         "0",
         "0",
         "Yes",
         "Private",
         "Urban",
         "171.23",
         "34.4",
         "smokes",
         "1"
        ],
        [
         "4",
         "Female",
         "79.0",
         "1",
         "0",
         "Yes",
         "Self-employed",
         "Rural",
         "174.12",
         "24.0",
         "never smoked",
         "1"
        ]
       ],
       "shape": {
        "columns": 11,
        "rows": 5
       }
      },
      "text/html": [
       "<div>\n",
       "<style scoped>\n",
       "    .dataframe tbody tr th:only-of-type {\n",
       "        vertical-align: middle;\n",
       "    }\n",
       "\n",
       "    .dataframe tbody tr th {\n",
       "        vertical-align: top;\n",
       "    }\n",
       "\n",
       "    .dataframe thead th {\n",
       "        text-align: right;\n",
       "    }\n",
       "</style>\n",
       "<table border=\"1\" class=\"dataframe\">\n",
       "  <thead>\n",
       "    <tr style=\"text-align: right;\">\n",
       "      <th></th>\n",
       "      <th>gender</th>\n",
       "      <th>age</th>\n",
       "      <th>hypertension</th>\n",
       "      <th>heart_disease</th>\n",
       "      <th>ever_married</th>\n",
       "      <th>work_type</th>\n",
       "      <th>Residence_type</th>\n",
       "      <th>avg_glucose_level</th>\n",
       "      <th>bmi</th>\n",
       "      <th>smoking_status</th>\n",
       "      <th>stroke</th>\n",
       "    </tr>\n",
       "  </thead>\n",
       "  <tbody>\n",
       "    <tr>\n",
       "      <th>0</th>\n",
       "      <td>Male</td>\n",
       "      <td>67.0</td>\n",
       "      <td>0</td>\n",
       "      <td>1</td>\n",
       "      <td>Yes</td>\n",
       "      <td>Private</td>\n",
       "      <td>Urban</td>\n",
       "      <td>228.69</td>\n",
       "      <td>36.6</td>\n",
       "      <td>formerly smoked</td>\n",
       "      <td>1</td>\n",
       "    </tr>\n",
       "    <tr>\n",
       "      <th>1</th>\n",
       "      <td>Female</td>\n",
       "      <td>61.0</td>\n",
       "      <td>0</td>\n",
       "      <td>0</td>\n",
       "      <td>Yes</td>\n",
       "      <td>Self-employed</td>\n",
       "      <td>Rural</td>\n",
       "      <td>202.21</td>\n",
       "      <td>28.1</td>\n",
       "      <td>never smoked</td>\n",
       "      <td>1</td>\n",
       "    </tr>\n",
       "    <tr>\n",
       "      <th>2</th>\n",
       "      <td>Male</td>\n",
       "      <td>80.0</td>\n",
       "      <td>0</td>\n",
       "      <td>1</td>\n",
       "      <td>Yes</td>\n",
       "      <td>Private</td>\n",
       "      <td>Rural</td>\n",
       "      <td>105.92</td>\n",
       "      <td>32.5</td>\n",
       "      <td>never smoked</td>\n",
       "      <td>1</td>\n",
       "    </tr>\n",
       "    <tr>\n",
       "      <th>3</th>\n",
       "      <td>Female</td>\n",
       "      <td>49.0</td>\n",
       "      <td>0</td>\n",
       "      <td>0</td>\n",
       "      <td>Yes</td>\n",
       "      <td>Private</td>\n",
       "      <td>Urban</td>\n",
       "      <td>171.23</td>\n",
       "      <td>34.4</td>\n",
       "      <td>smokes</td>\n",
       "      <td>1</td>\n",
       "    </tr>\n",
       "    <tr>\n",
       "      <th>4</th>\n",
       "      <td>Female</td>\n",
       "      <td>79.0</td>\n",
       "      <td>1</td>\n",
       "      <td>0</td>\n",
       "      <td>Yes</td>\n",
       "      <td>Self-employed</td>\n",
       "      <td>Rural</td>\n",
       "      <td>174.12</td>\n",
       "      <td>24.0</td>\n",
       "      <td>never smoked</td>\n",
       "      <td>1</td>\n",
       "    </tr>\n",
       "  </tbody>\n",
       "</table>\n",
       "</div>"
      ],
      "text/plain": [
       "   gender   age  hypertension  heart_disease ever_married      work_type  \\\n",
       "0    Male  67.0             0              1          Yes        Private   \n",
       "1  Female  61.0             0              0          Yes  Self-employed   \n",
       "2    Male  80.0             0              1          Yes        Private   \n",
       "3  Female  49.0             0              0          Yes        Private   \n",
       "4  Female  79.0             1              0          Yes  Self-employed   \n",
       "\n",
       "  Residence_type  avg_glucose_level   bmi   smoking_status  stroke  \n",
       "0          Urban             228.69  36.6  formerly smoked       1  \n",
       "1          Rural             202.21  28.1     never smoked       1  \n",
       "2          Rural             105.92  32.5     never smoked       1  \n",
       "3          Urban             171.23  34.4           smokes       1  \n",
       "4          Rural             174.12  24.0     never smoked       1  "
      ]
     },
     "metadata": {},
     "output_type": "display_data"
    }
   ],
   "source": [
    "file_path = '../data/healthcare-dataset-stroke-data.csv'\n",
    "try:\n",
    "    stroke_df = pd.read_csv(file_path)\n",
    "    print(\"Stroke dataset loaded successfully.\")\n",
    "    display(stroke_df.head())\n",
    "    stroke_df.info()\n",
    "except FileNotFoundError:\n",
    "    print(f\"Error: File not found at {file_path}\")\n",
    "    stroke_df = None\n",
    "\n",
    "if stroke_df is not None:\n",
    "    # Basic Cleaning (similar to EDA)\n",
    "    # Drop 'id' as it's an identifier\n",
    "    if 'id' in stroke_df.columns:\n",
    "        stroke_df.drop('id', axis=1, inplace=True)\n",
    "\n",
    "    # Handle 'Other' gender if present (e.g., by dropping)\n",
    "    if 'gender' in stroke_df.columns and 'Other' in stroke_df['gender'].unique():\n",
    "        stroke_df = stroke_df[stroke_df['gender'] != 'Other']\n",
    "    \n",
    "    # Impute 'bmi' with median\n",
    "    if 'bmi' in stroke_df.columns:\n",
    "       stroke_df['bmi'] = stroke_df['bmi'].fillna(stroke_df['bmi'].median())\n",
    "\n",
    "    print(\"\\nDataset after initial cleaning and BMI imputation:\")\n",
    "    print(f\"Missing values sum:\\n{stroke_df.isnull().sum().sum()}\") # Should be 0\n",
    "    display(stroke_df.head())"
   ]
  },
  {
   "cell_type": "markdown",
   "id": "4589d93f",
   "metadata": {},
   "source": [
    "Define Features (X) and Target (y), Preprocessing Pipeline\n",
    "\n",
    "Logistic regression, like many other algorithms, requires categorical features to be converted to numeric (e.g., One-Hot Encoding) and numerical features to be scaled."
   ]
  },
  {
   "cell_type": "code",
   "execution_count": 4,
   "id": "d05628a3",
   "metadata": {},
   "outputs": [
    {
     "name": "stdout",
     "output_type": "stream",
     "text": [
      "Categorical features: ['gender', 'ever_married', 'work_type', 'Residence_type', 'smoking_status']\n",
      "Numerical features: ['age', 'hypertension', 'heart_disease', 'avg_glucose_level', 'bmi']\n"
     ]
    }
   ],
   "source": [
    "if stroke_df is not None:\n",
    "    X = stroke_df.drop('stroke', axis=1)\n",
    "    y = stroke_df['stroke']\n",
    "\n",
    "    # Identify categorical and numerical features\n",
    "    categorical_features = X.select_dtypes(include=['object', 'category']).columns\n",
    "    numerical_features = X.select_dtypes(include=np.number).columns\n",
    "\n",
    "    print(f\"Categorical features: {list(categorical_features)}\")\n",
    "    print(f\"Numerical features: {list(numerical_features)}\")\n",
    "\n",
    "    # Create preprocessing pipelines for numerical and categorical features\n",
    "    numerical_pipeline = Pipeline([\n",
    "        ('scaler', StandardScaler())\n",
    "    ])\n",
    "\n",
    "    categorical_pipeline = Pipeline([\n",
    "        ('onehot', OneHotEncoder(handle_unknown='ignore', drop='first')) # drop='first' to avoid multicollinearity\n",
    "    ])\n",
    "\n",
    "    # Create a ColumnTransformer to apply pipelines to respective columns\n",
    "    preprocessor = ColumnTransformer([\n",
    "        ('num', numerical_pipeline, numerical_features),\n",
    "        ('cat', categorical_pipeline, categorical_features)\n",
    "    ])"
   ]
  },
  {
   "cell_type": "markdown",
   "id": "701bdc83",
   "metadata": {},
   "source": [
    "Split Data"
   ]
  },
  {
   "cell_type": "code",
   "execution_count": 5,
   "id": "9b1fc648",
   "metadata": {},
   "outputs": [
    {
     "name": "stdout",
     "output_type": "stream",
     "text": [
      "X_train shape: (4087, 10)\n",
      "X_test shape: (1022, 10)\n"
     ]
    }
   ],
   "source": [
    "if 'X' in locals():\n",
    "    # Split data (before applying the preprocessor, it will be fit on train and transform both)\n",
    "    # stratify=y is important for imbalanced datasets to keep class proportions similar in train/test\n",
    "    X_train, X_test, y_train, y_test = train_test_split(X, y, test_size=0.2, random_state=42, stratify=y)\n",
    "\n",
    "    print(\"X_train shape:\", X_train.shape)\n",
    "    print(\"X_test shape:\", X_test.shape)"
   ]
  },
  {
   "cell_type": "markdown",
   "id": "0778e1cb",
   "metadata": {},
   "source": [
    " Create and Train Logistic Regression Model (within a full pipeline)"
   ]
  },
  {
   "cell_type": "code",
   "execution_count": 6,
   "id": "da2e45d1",
   "metadata": {},
   "outputs": [
    {
     "name": "stdout",
     "output_type": "stream",
     "text": [
      "Logistic Regression pipeline trained successfully.\n"
     ]
    }
   ],
   "source": [
    "if 'preprocessor' in locals():\n",
    "    # Create the full pipeline: preprocessor + logistic regression model\n",
    "    log_reg_pipeline = Pipeline([\n",
    "        ('preprocessor', preprocessor),\n",
    "        ('classifier', LogisticRegression(solver='liblinear', random_state=42, class_weight='balanced')) \n",
    "        # solver='liblinear' is good for smaller datasets.\n",
    "        # class_weight='balanced' helps with imbalanced target variable like 'stroke'\n",
    "    ])\n",
    "\n",
    "    # Train the pipeline\n",
    "    log_reg_pipeline.fit(X_train, y_train)\n",
    "    print(\"Logistic Regression pipeline trained successfully.\")"
   ]
  },
  {
   "cell_type": "markdown",
   "id": "2d2f78fc",
   "metadata": {},
   "source": [
    "Make Predictions and Evaluate"
   ]
  },
  {
   "cell_type": "code",
   "execution_count": 7,
   "id": "4051f071",
   "metadata": {},
   "outputs": [
    {
     "name": "stdout",
     "output_type": "stream",
     "text": [
      "\n",
      "Accuracy: 0.7378\n",
      "\n",
      "Confusion Matrix:\n"
     ]
    },
    {
     "data": {
      "image/png": "[encoded data removed]",
      "text/plain": [
       "<Figure size 640x480 with 2 Axes>"
      ]
     },
     "metadata": {},
     "output_type": "display_data"
    },
    {
     "name": "stdout",
     "output_type": "stream",
     "text": [
      "\n",
      "Classification Report:\n",
      "               precision    recall  f1-score   support\n",
      "\n",
      "No Stroke (0)       0.99      0.73      0.84       972\n",
      "   Stroke (1)       0.13      0.80      0.23        50\n",
      "\n",
      "     accuracy                           0.74      1022\n",
      "    macro avg       0.56      0.77      0.54      1022\n",
      " weighted avg       0.94      0.74      0.81      1022\n",
      "\n",
      "\n",
      "ROC AUC Score: 0.8390\n"
     ]
    },
    {
     "data": {
      "image/png": "[encoded data removed]",
      "text/plain": [
       "<Figure size 800x600 with 1 Axes>"
      ]
     },
     "metadata": {},
     "output_type": "display_data"
    }
   ],
   "source": [
    "if 'log_reg_pipeline' in locals():\n",
    "    y_pred = log_reg_pipeline.predict(X_test)\n",
    "    y_pred_proba = log_reg_pipeline.predict_proba(X_test)[:, 1] # Probabilities for the positive class (stroke=1)\n",
    "\n",
    "    # Evaluation\n",
    "    accuracy = accuracy_score(y_test, y_pred)\n",
    "    print(f\"\\nAccuracy: {accuracy:.4f}\")\n",
    "\n",
    "    print(\"\\nConfusion Matrix:\")\n",
    "    cm = confusion_matrix(y_test, y_pred)\n",
    "    sns.heatmap(cm, annot=True, fmt='d', cmap='Blues')\n",
    "    plt.xlabel('Predicted')\n",
    "    plt.ylabel('Actual')\n",
    "    plt.show()\n",
    "\n",
    "    print(\"\\nClassification Report:\")\n",
    "    print(classification_report(y_test, y_pred, target_names=['No Stroke (0)', 'Stroke (1)']))\n",
    "\n",
    "    # ROC AUC Score\n",
    "    roc_auc = roc_auc_score(y_test, y_pred_proba)\n",
    "    print(f\"\\nROC AUC Score: {roc_auc:.4f}\")\n",
    "\n",
    "    # Plot ROC Curve\n",
    "    fpr, tpr, thresholds = roc_curve(y_test, y_pred_proba)\n",
    "    plt.figure(figsize=(8,6))\n",
    "    plt.plot(fpr, tpr, label=f'Logistic Regression (AUC = {roc_auc:.2f})')\n",
    "    plt.plot([0, 1], [0, 1], 'k--') # Random guessing line\n",
    "    plt.xlabel('False Positive Rate')\n",
    "    plt.ylabel('True Positive Rate')\n",
    "    plt.title('ROC Curve')\n",
    "    plt.legend()\n",
    "    plt.show()"
   ]
  },
  {
   "cell_type": "markdown",
   "id": "cfb53110",
   "metadata": {},
   "source": [
    "Additional Cell"
   ]
  },
  {
   "cell_type": "code",
   "execution_count": 8,
   "id": "5950ac16",
   "metadata": {},
   "outputs": [
    {
     "name": "stdout",
     "output_type": "stream",
     "text": [
      "--- Evaluating with different thresholds ---\n",
      "\n",
      "--- Threshold: 0.2 ---\n",
      "Accuracy: 0.5088\n",
      "Confusion Matrix (Threshold 0.2):\n",
      "[[477 495]\n",
      " [  7  43]]\n",
      "Precision (Stroke=1): 0.0799\n",
      "Recall (Stroke=1): 0.8600\n",
      "F1-Score (Stroke=1): 0.1463\n",
      "\n",
      "--- Threshold: 0.3 ---\n",
      "Accuracy: 0.5959\n",
      "Confusion Matrix (Threshold 0.3):\n",
      "[[567 405]\n",
      " [  8  42]]\n",
      "Precision (Stroke=1): 0.0940\n",
      "Recall (Stroke=1): 0.8400\n",
      "F1-Score (Stroke=1): 0.1690\n",
      "\n",
      "--- Threshold: 0.4 ---\n",
      "Accuracy: 0.6673\n",
      "Confusion Matrix (Threshold 0.4):\n",
      "[[640 332]\n",
      " [  8  42]]\n",
      "Precision (Stroke=1): 0.1123\n",
      "Recall (Stroke=1): 0.8400\n",
      "F1-Score (Stroke=1): 0.1981\n",
      "\n",
      "--- Threshold: 0.5 ---\n",
      "Accuracy: 0.7378\n",
      "Confusion Matrix (Threshold 0.5):\n",
      "[[714 258]\n",
      " [ 10  40]]\n",
      "Precision (Stroke=1): 0.1342\n",
      "Recall (Stroke=1): 0.8000\n",
      "F1-Score (Stroke=1): 0.2299\n",
      "\n",
      "--- Threshold: 0.6 ---\n",
      "Accuracy: 0.8072\n",
      "Confusion Matrix (Threshold 0.6):\n",
      "[[787 185]\n",
      " [ 12  38]]\n",
      "Precision (Stroke=1): 0.1704\n",
      "Recall (Stroke=1): 0.7600\n",
      "F1-Score (Stroke=1): 0.2784\n",
      "\n",
      "--- Threshold: 0.7 ---\n",
      "Accuracy: 0.8454\n",
      "Confusion Matrix (Threshold 0.7):\n",
      "[[828 144]\n",
      " [ 14  36]]\n",
      "Precision (Stroke=1): 0.2000\n",
      "Recall (Stroke=1): 0.7200\n",
      "F1-Score (Stroke=1): 0.3130\n"
     ]
    },
    {
     "data": {
      "image/png": "[encoded data removed]",
      "text/plain": [
       "<Figure size 800x600 with 1 Axes>"
      ]
     },
     "metadata": {},
     "output_type": "display_data"
    }
   ],
   "source": [
    "# Cell: Exploring Decision Threshold\n",
    "if 'log_reg_pipeline' in locals() and 'X_test' in locals() and 'y_test' in locals():\n",
    "    y_pred_proba = log_reg_pipeline.predict_proba(X_test)[:, 1] # Probabilities for positive class\n",
    "\n",
    "    print(\"--- Evaluating with different thresholds ---\")\n",
    "    thresholds_to_try = [0.2, 0.3, 0.4, 0.5, 0.6, 0.7]\n",
    "    \n",
    "    for t in thresholds_to_try:\n",
    "        # Apply new threshold to probabilities\n",
    "        custom_preds = (y_pred_proba >= t).astype(int)\n",
    "        \n",
    "        print(f\"\\n--- Threshold: {t} ---\")\n",
    "        print(f\"Accuracy: {accuracy_score(y_test, custom_preds):.4f}\")\n",
    "        cm_custom = confusion_matrix(y_test, custom_preds)\n",
    "        # Manually extract TP, FP, TN, FN for recall and precision calculation for class 1\n",
    "        # Assuming class 1 (Stroke) is the positive class and its index is 1 in confusion matrix\n",
    "        # Make sure your confusion matrix labels are consistent:\n",
    "        # TN = cm[0,0], FP = cm[0,1], FN = cm[1,0], TP = cm[1,1]\n",
    "        tn, fp, fn, tp = cm_custom.ravel() if cm_custom.shape == (2,2) else (0,0,0,0) # Handle cases with no predictions for a class\n",
    "\n",
    "        precision_class1 = tp / (tp + fp) if (tp + fp) > 0 else 0\n",
    "        recall_class1 = tp / (tp + fn) if (tp + fn) > 0 else 0\n",
    "        f1_class1 = 2 * (precision_class1 * recall_class1) / (precision_class1 + recall_class1) if (precision_class1 + recall_class1) > 0 else 0\n",
    "        \n",
    "        print(f\"Confusion Matrix (Threshold {t}):\\n{cm_custom}\")\n",
    "        print(f\"Precision (Stroke=1): {precision_class1:.4f}\")\n",
    "        print(f\"Recall (Stroke=1): {recall_class1:.4f}\")\n",
    "        print(f\"F1-Score (Stroke=1): {f1_class1:.4f}\")\n",
    "\n",
    "    # Precision-Recall Curve\n",
    "    from sklearn.metrics import precision_recall_curve, average_precision_score\n",
    "\n",
    "    precision, recall, thresholds_pr = precision_recall_curve(y_test, y_pred_proba)\n",
    "    avg_precision = average_precision_score(y_test, y_pred_proba)\n",
    "\n",
    "    plt.figure(figsize=(8,6))\n",
    "    plt.plot(recall, precision, label=f'Logistic Regression (AP = {avg_precision:.2f})')\n",
    "    plt.xlabel('Recall')\n",
    "    plt.ylabel('Precision')\n",
    "    plt.title('Precision-Recall Curve')\n",
    "    plt.legend()\n",
    "    plt.show()"
   ]
  },
  {
   "cell_type": "markdown",
   "id": "6f01cd32",
   "metadata": {},
   "source": [
    "Additional Cell"
   ]
  },
  {
   "cell_type": "code",
   "execution_count": 15,
   "id": "f98e3b66",
   "metadata": {},
   "outputs": [
    {
     "name": "stdout",
     "output_type": "stream",
     "text": [
      "\n",
      "Logistic Regression pipeline with SMOTE trained successfully.\n",
      "\n",
      "--- Evaluation with SMOTE ---\n",
      "Accuracy: 0.7387\n"
     ]
    },
    {
     "data": {
      "image/png": "[encoded data removed]",
      "text/plain": [
       "<Figure size 640x480 with 2 Axes>"
      ]
     },
     "metadata": {},
     "output_type": "display_data"
    },
    {
     "name": "stdout",
     "output_type": "stream",
     "text": [
      "               precision    recall  f1-score   support\n",
      "\n",
      "No Stroke (0)       0.99      0.74      0.84       972\n",
      "   Stroke (1)       0.13      0.80      0.23        50\n",
      "\n",
      "     accuracy                           0.74      1022\n",
      "    macro avg       0.56      0.77      0.54      1022\n",
      " weighted avg       0.94      0.74      0.81      1022\n",
      "\n",
      "ROC AUC Score (with SMOTE): 0.8386\n"
     ]
    }
   ],
   "source": [
    "# Cell: Applying SMOTE (Oversampling)\n",
    "from imblearn.over_sampling import SMOTE\n",
    "from imblearn.pipeline import Pipeline as ImbPipeline # Use imblearn's Pipeline\n",
    "\n",
    "if 'preprocessor' in locals() and 'X_train' in locals() and 'y_train' in locals():\n",
    "    # Create a new pipeline incorporating SMOTE\n",
    "    # SMOTE should ONLY be applied to the training data\n",
    "    log_reg_pipeline_smote = ImbPipeline([\n",
    "        ('preprocessor', preprocessor), # Preprocessing steps first\n",
    "        ('smote', SMOTE(random_state=42, k_neighbors=4)),  # Then SMOTE. k_neighbors must be <= n_minority_samples-1\n",
    "                                                         # You might need to adjust k_neighbors if you have few minority samples after split\n",
    "        ('classifier', LogisticRegression(solver='liblinear', random_state=42)) \n",
    "        # No class_weight='balanced' here as SMOTE handles imbalance\n",
    "    ])\n",
    "    \n",
    "    # Check minority class size before SMOTE for k_neighbors\n",
    "    # num_minority_samples_train = y_train.sum() # Assuming 1 is minority\n",
    "    # print(f\"Number of minority samples in training set before SMOTE: {num_minority_samples_train}\")\n",
    "    # If num_minority_samples_train is very small (e.g., < k_neighbors+1), SMOTE will fail.\n",
    "\n",
    "    try:\n",
    "        # Fit the pipeline with SMOTE\n",
    "        log_reg_pipeline_smote.fit(X_train, y_train)\n",
    "        print(\"\\nLogistic Regression pipeline with SMOTE trained successfully.\")\n",
    "\n",
    "        # Make predictions and evaluate\n",
    "        y_pred_smote = log_reg_pipeline_smote.predict(X_test)\n",
    "        y_pred_proba_smote = log_reg_pipeline_smote.predict_proba(X_test)[:, 1]\n",
    "\n",
    "        print(\"\\n--- Evaluation with SMOTE ---\")\n",
    "        print(f\"Accuracy: {accuracy_score(y_test, y_pred_smote):.4f}\")\n",
    "        cm_smote = confusion_matrix(y_test, y_pred_smote)\n",
    "        sns.heatmap(cm_smote, annot=True, fmt='d', cmap='Greens')\n",
    "        plt.title('Confusion Matrix (with SMOTE)')\n",
    "        plt.xlabel('Predicted')\n",
    "        plt.ylabel('Actual')\n",
    "        plt.show()\n",
    "        print(classification_report(y_test, y_pred_smote, target_names=['No Stroke (0)', 'Stroke (1)']))\n",
    "        roc_auc_smote = roc_auc_score(y_test, y_pred_proba_smote)\n",
    "        print(f\"ROC AUC Score (with SMOTE): {roc_auc_smote:.4f}\")\n",
    "    \n",
    "    except ValueError as e:\n",
    "        print(f\"Error during SMOTE or model training: {e}\")\n",
    "        print(\"This might be due to too few samples in the minority class for the chosen k_neighbors in SMOTE.\")\n",
    "        print(f\"Minority class count in y_train: {y_train.sum()}\")"
   ]
  },
  {
   "cell_type": "code",
   "execution_count": null,
   "id": "073bd385",
   "metadata": {},
   "outputs": [],
   "source": []
  },
  {
   "cell_type": "markdown",
   "id": "eb982eb9",
   "metadata": {},
   "source": [
    "Implement KNN for Classification (Stroke Dataset):\n",
    "Additional Cell:"
   ]
  },
  {
   "cell_type": "code",
   "execution_count": 16,
   "id": "e13b6c7d",
   "metadata": {},
   "outputs": [
    {
     "name": "stdout",
     "output_type": "stream",
     "text": [
      "\n",
      "KNN model trained successfully (with K=5).\n",
      "\n",
      "--- KNN Evaluation (K=5) ---\n",
      "Accuracy: 0.9481\n"
     ]
    },
    {
     "data": {
      "image/png": "[encoded data removed]",
      "text/plain": [
       "<Figure size 640x480 with 2 Axes>"
      ]
     },
     "metadata": {},
     "output_type": "display_data"
    },
    {
     "name": "stdout",
     "output_type": "stream",
     "text": [
      "               precision    recall  f1-score   support\n",
      "\n",
      "No Stroke (0)       0.95      1.00      0.97       972\n",
      "   Stroke (1)       0.20      0.02      0.04        50\n",
      "\n",
      "     accuracy                           0.95      1022\n",
      "    macro avg       0.58      0.51      0.50      1022\n",
      " weighted avg       0.92      0.95      0.93      1022\n",
      "\n",
      "ROC AUC Score (KNN, K=5): 0.6067\n"
     ]
    }
   ],
   "source": [
    "# Cell: K-Nearest Neighbors (KNN) Classifier\n",
    "from sklearn.neighbors import KNeighborsClassifier\n",
    "\n",
    "if 'preprocessor' in locals() and 'X_train' in locals() and 'y_train' in locals():\n",
    "    # Create KNN pipeline (preprocessing is crucial for KNN)\n",
    "    # We will try a few values for n_neighbors later\n",
    "    knn_pipeline = Pipeline([\n",
    "        ('preprocessor', preprocessor), # Same preprocessor as before\n",
    "        ('classifier', KNeighborsClassifier(n_neighbors=5)) # Start with K=5\n",
    "    ])\n",
    "\n",
    "    # Train the KNN model\n",
    "    knn_pipeline.fit(X_train, y_train)\n",
    "    print(\"\\nKNN model trained successfully (with K=5).\")\n",
    "\n",
    "    # Make predictions\n",
    "    y_pred_knn = knn_pipeline.predict(X_test)\n",
    "    y_pred_proba_knn = knn_pipeline.predict_proba(X_test)[:, 1]\n",
    "\n",
    "    # Evaluate KNN\n",
    "    print(\"\\n--- KNN Evaluation (K=5) ---\")\n",
    "    print(f\"Accuracy: {accuracy_score(y_test, y_pred_knn):.4f}\")\n",
    "    cm_knn = confusion_matrix(y_test, y_pred_knn)\n",
    "    sns.heatmap(cm_knn, annot=True, fmt='d', cmap='Oranges')\n",
    "    plt.title('Confusion Matrix (KNN, K=5)')\n",
    "    plt.xlabel('Predicted')\n",
    "    plt.ylabel('Actual')\n",
    "    plt.show()\n",
    "    print(classification_report(y_test, y_pred_knn, target_names=['No Stroke (0)', 'Stroke (1)']))\n",
    "    roc_auc_knn = roc_auc_score(y_test, y_pred_proba_knn)\n",
    "    print(f\"ROC AUC Score (KNN, K=5): {roc_auc_knn:.4f}\")\n",
    "    \n",
    "    # Optional: Find a good K using a loop (simple version, better with GridSearchCV later)\n",
    "    # print(\"\\n--- Finding a good K for KNN ---\")\n",
    "    # k_values = range(1, 20, 2) # Odd numbers to avoid ties, e.g., 1, 3, 5...19\n",
    "    # roc_auc_scores_knn = []\n",
    "\n",
    "    # for k_val in k_values:\n",
    "    #     knn_temp_pipeline = Pipeline([\n",
    "    #         ('preprocessor', preprocessor),\n",
    "    #         ('classifier', KNeighborsClassifier(n_neighbors=k_val))\n",
    "    #     ])\n",
    "    #     knn_temp_pipeline.fit(X_train, y_train)\n",
    "    #     y_pred_proba_temp_knn = knn_temp_pipeline.predict_proba(X_test)[:, 1]\n",
    "    #     roc_auc_scores_knn.append(roc_auc_score(y_test, y_pred_proba_temp_knn))\n",
    "    \n",
    "    # plt.figure(figsize=(10,6))\n",
    "    # plt.plot(k_values, roc_auc_scores_knn, marker='o')\n",
    "    # plt.xlabel(\"K Value\")\n",
    "    # plt.ylabel(\"ROC AUC Score on Test Set\")\n",
    "    # plt.title(\"KNN Performance for different K values\")\n",
    "    # plt.xticks(k_values)\n",
    "    # plt.grid(True)\n",
    "    # plt.show()\n",
    "    \n",
    "    # best_k_index = np.argmax(roc_auc_scores_knn)\n",
    "    # print(f\"Best K found: {k_values[best_k_index]} with ROC AUC: {roc_auc_scores_knn[best_k_index]:.4f}\")"
   ]
  }
 ],
 "metadata": {
  "kernelspec": {
   "display_name": ".venv",
   "language": "python",
   "name": "python3"
  },
  "language_info": {
   "codemirror_mode": {
    "name": "ipython",
    "version": 3
   },
   "file_extension": ".py",
   "mimetype": "text/x-python",
   "name": "python",
   "nbconvert_exporter": "python",
   "pygments_lexer": "ipython3",
   "version": "3.12.3"
  }
 },
 "nbformat": 4,
 "nbformat_minor": 5
}
