{
 "cells": [
  {
   "cell_type": "markdown",
   "id": "82a51555",
   "metadata": {},
   "source": []
  },
  {
   "cell_type": "code",
   "execution_count": 8,
   "id": "74a2a36f",
   "metadata": {},
   "outputs": [
    {
     "name": "stdout",
     "output_type": "stream",
     "text": [
      "Libraries imported.\n",
      "Removed 1 entries with gender='Other'\n",
      "Dataset loaded and prepped.\n",
      "Preprocessor defined.\n"
     ]
    }
   ],
   "source": [
    "# Cell 1: Imports (add SVM and cross-validation tools)\n",
    "import pandas as pd\n",
    "import numpy as np\n",
    "import matplotlib.pyplot as plt\n",
    "import seaborn as sns\n",
    "\n",
    "from sklearn.model_selection import train_test_split, cross_val_score, GridSearchCV, StratifiedKFold\n",
    "from sklearn.svm import SVC # Support Vector Classifier\n",
    "from sklearn.preprocessing import StandardScaler, OneHotEncoder\n",
    "from sklearn.compose import ColumnTransformer\n",
    "from sklearn.pipeline import Pipeline\n",
    "from sklearn.metrics import accuracy_score, confusion_matrix, classification_report, roc_auc_score\n",
    "\n",
    "sns.set_theme(style=\"whitegrid\")\n",
    "pd.set_option('display.max_columns', None)\n",
    "print(\"Libraries imported.\")\n",
    "#Cell 2: Load and Initial Prep\n",
    "# Cell 2: Load and Initial Prep (Stroke Dataset)\n",
    "file_path = '../data/healthcare-dataset-stroke-data.csv'  # Ajusta si es necesario\n",
    "\n",
    "try:\n",
    "    stroke_df = pd.read_csv(file_path)\n",
    "\n",
    "    if 'id' in stroke_df.columns:\n",
    "        stroke_df.drop('id', axis=1, inplace=True)\n",
    "\n",
    "    if 'gender' in stroke_df.columns and 'Other' in stroke_df['gender'].unique():\n",
    "        before = len(stroke_df)\n",
    "        stroke_df = stroke_df[stroke_df['gender'] != 'Other']\n",
    "        print(f\"Removed {before - len(stroke_df)} entries with gender='Other'\")\n",
    "\n",
    "    if 'bmi' in stroke_df.columns:\n",
    "        stroke_df['bmi'] = stroke_df['bmi'].fillna(stroke_df['bmi'].median())\n",
    "\n",
    "    print(\"Dataset loaded and prepped.\")\n",
    "\n",
    "    # Separar en X (features) y y (target)\n",
    "    X = stroke_df.drop('stroke', axis=1)\n",
    "    y = stroke_df['stroke']\n",
    "\n",
    "    # Asegurar que las variables categóricas estén bien tipadas\n",
    "    for col in X.select_dtypes(include='object').columns:\n",
    "        X[col] = X[col].astype('category')\n",
    "\n",
    "except FileNotFoundError:\n",
    "    print(f\"Error: File not found at {file_path}\")\n",
    "    X, y = None, None\n",
    "#Cell 3: Define Preprocessor\n",
    "# Cell 3: Define Preprocessor\n",
    "if X is not None:\n",
    "    categorical_features = X.select_dtypes(include=['object', 'category']).columns\n",
    "    numerical_features = X.select_dtypes(include=np.number).columns\n",
    "\n",
    "    preprocessor = ColumnTransformer([\n",
    "        ('num', StandardScaler(), numerical_features),\n",
    "        ('cat', OneHotEncoder(handle_unknown='ignore', drop='first'), categorical_features)\n",
    "    ])\n",
    "    \n",
    "    print(\"Preprocessor defined.\")\n"
   ]
  },
  {
   "cell_type": "markdown",
   "id": "f85aab0c",
   "metadata": {},
   "source": [
    "Implementar SVM (SVC - Support Vector Classifier):"
   ]
  },
  {
   "cell_type": "code",
   "execution_count": 9,
   "id": "97ed00a6",
   "metadata": {},
   "outputs": [
    {
     "name": "stdout",
     "output_type": "stream",
     "text": [
      "Data split into train and test sets.\n",
      "Training basic SVM model...\n",
      "Basic SVM model trained successfully.\n",
      "\n",
      "--- Basic SVM Evaluation ---\n",
      "Accuracy: 0.7397\n"
     ]
    },
    {
     "data": {
      "image/png": "[encoded data removed]",
      "text/plain": [
       "<Figure size 640x480 with 2 Axes>"
      ]
     },
     "metadata": {},
     "output_type": "display_data"
    },
    {
     "name": "stdout",
     "output_type": "stream",
     "text": [
      "               precision    recall  f1-score   support\n",
      "\n",
      "No Stroke (0)       0.98      0.74      0.84       972\n",
      "   Stroke (1)       0.13      0.74      0.22        50\n",
      "\n",
      "     accuracy                           0.74      1022\n",
      "    macro avg       0.55      0.74      0.53      1022\n",
      " weighted avg       0.94      0.74      0.81      1022\n",
      "\n",
      "ROC AUC Score (Basic SVM): 0.7945\n"
     ]
    }
   ],
   "source": [
    "# Cell 4: Train-Test Split\n",
    "if X is not None:\n",
    "    # Stratify=y is important for imbalanced datasets\n",
    "    X_train, X_test, y_train, y_test = train_test_split(X, y, test_size=0.2, random_state=42, stratify=y)\n",
    "    print(\"Data split into train and test sets.\")\n",
    "\n",
    "# Cell 5: SVM Model with basic parameters\n",
    "if 'preprocessor' in locals() and 'X_train' in locals():\n",
    "    # Create SVM pipeline\n",
    "    # Using default RBF kernel initially, C=1.0, gamma='scale'\n",
    "    # Add class_weight='balanced' due to imbalanced dataset\n",
    "    svm_pipeline_basic = Pipeline([\n",
    "        ('preprocessor', preprocessor),\n",
    "        ('classifier', SVC(probability=True, random_state=42, class_weight='balanced')) \n",
    "        # probability=True allows predict_proba, but makes it slower\n",
    "    ])\n",
    "\n",
    "    # Train the SVM model\n",
    "    print(\"Training basic SVM model...\")\n",
    "    svm_pipeline_basic.fit(X_train, y_train)\n",
    "    print(\"Basic SVM model trained successfully.\")\n",
    "\n",
    "    # Make predictions and evaluate\n",
    "    y_pred_svm_basic = svm_pipeline_basic.predict(X_test)\n",
    "    y_pred_proba_svm_basic = svm_pipeline_basic.predict_proba(X_test)[:, 1]\n",
    "\n",
    "    print(\"\\n--- Basic SVM Evaluation ---\")\n",
    "    print(f\"Accuracy: {accuracy_score(y_test, y_pred_svm_basic):.4f}\")\n",
    "    cm_svm_basic = confusion_matrix(y_test, y_pred_svm_basic)\n",
    "    sns.heatmap(cm_svm_basic, annot=True, fmt='d', cmap='Purples')\n",
    "    plt.title('Confusion Matrix (Basic SVM)')\n",
    "    plt.xlabel('Predicted')\n",
    "    plt.ylabel('Actual')\n",
    "    plt.show()\n",
    "    print(classification_report(y_test, y_pred_svm_basic, target_names=['No Stroke (0)', 'Stroke (1)']))\n",
    "    roc_auc_svm_basic = roc_auc_score(y_test, y_pred_proba_svm_basic)\n",
    "    print(f\"ROC AUC Score (Basic SVM): {roc_auc_svm_basic:.4f}\")"
   ]
  },
  {
   "cell_type": "markdown",
   "id": "3f4eda69",
   "metadata": {},
   "source": [
    "Apply K-Fold Cross-Validation to Evaluate SVM"
   ]
  },
  {
   "cell_type": "code",
   "execution_count": 10,
   "id": "96de1e85",
   "metadata": {},
   "outputs": [
    {
     "name": "stdout",
     "output_type": "stream",
     "text": [
      "\n",
      "Performing 5-Fold Cross-Validation for SVM (scoring with ROC AUC)...\n",
      "Cross-Validation ROC AUC Scores: [0.79345679 0.78713992 0.80244856 0.77823045 0.77530024]\n",
      "Mean ROC AUC Score: 0.7873\n",
      "Standard Deviation of ROC AUC Scores: 0.0099\n",
      "\n",
      "Performing 5-Fold Cross-Validation for SVM (scoring with Recall for Stroke class)...\n",
      "Cross-Validation Recall (Stroke=1) Scores: [0.72       0.64       0.7        0.56       0.55102041]\n",
      "Mean Recall (Stroke=1) Score: 0.6342\n",
      "Standard Deviation of Recall (Stroke=1) Scores: 0.0695\n"
     ]
    }
   ],
   "source": [
    "# Cell 6: K-Fold Cross-Validation for SVM\n",
    "if 'preprocessor' in locals() and X is not None: # Use full X and y for CV\n",
    "    \n",
    "    # Recreate the pipeline for CV (it's good practice not to reuse fitted pipelines for new CV)\n",
    "    svm_pipeline_for_cv = Pipeline([\n",
    "        ('preprocessor', preprocessor),\n",
    "        ('classifier', SVC(probability=True, random_state=42, class_weight='balanced'))\n",
    "    ])\n",
    "\n",
    "    # Define K-fold strategy (StratifiedKFold is good for imbalanced classification)\n",
    "    # shuffle=True ensures folds are random, random_state for reproducibility\n",
    "    cv_strategy = StratifiedKFold(n_splits=5, shuffle=True, random_state=42) \n",
    "\n",
    "    # Perform cross-validation\n",
    "    # Scoring can be 'accuracy', 'roc_auc', 'f1', 'recall', 'precision', etc.\n",
    "    # For imbalanced data like stroke, 'roc_auc' or 'recall' (for class 1) are often better than 'accuracy'\n",
    "    print(\"\\nPerforming 5-Fold Cross-Validation for SVM (scoring with ROC AUC)...\")\n",
    "    cv_scores_roc_auc = cross_val_score(svm_pipeline_for_cv, X, y, cv=cv_strategy, scoring='roc_auc')\n",
    "    \n",
    "    print(f\"Cross-Validation ROC AUC Scores: {cv_scores_roc_auc}\")\n",
    "    print(f\"Mean ROC AUC Score: {cv_scores_roc_auc.mean():.4f}\")\n",
    "    print(f\"Standard Deviation of ROC AUC Scores: {cv_scores_roc_auc.std():.4f}\")\n",
    "\n",
    "    # Example for 'recall' for the positive class (stroke=1)\n",
    "    # Note: for 'recall' you might need to specify which class, often using make_scorer\n",
    "    from sklearn.metrics import make_scorer, recall_score\n",
    "    recall_scorer_stroke = make_scorer(recall_score, pos_label=1) # Assuming 1 is the 'stroke' class\n",
    "    \n",
    "    print(\"\\nPerforming 5-Fold Cross-Validation for SVM (scoring with Recall for Stroke class)...\")\n",
    "    cv_scores_recall = cross_val_score(svm_pipeline_for_cv, X, y, cv=cv_strategy, scoring=recall_scorer_stroke)\n",
    "\n",
    "    print(f\"Cross-Validation Recall (Stroke=1) Scores: {cv_scores_recall}\")\n",
    "    print(f\"Mean Recall (Stroke=1) Score: {cv_scores_recall.mean():.4f}\")\n",
    "    print(f\"Standard Deviation of Recall (Stroke=1) Scores: {cv_scores_recall.std():.4f}\")"
   ]
  },
  {
   "cell_type": "markdown",
   "id": "32c9cddd",
   "metadata": {},
   "source": [
    "Intro to GridSearchCV for SVM Hyperparameter Tuning:\n",
    "Support Vector Machines (SVM) have key hyperparameters (like C, gamma, and kernel). GridSearchCV tries out all combinations from a parameter grid you define and picks the best one using cross-validation."
   ]
  },
  {
   "cell_type": "code",
   "execution_count": 11,
   "id": "d012aa66",
   "metadata": {},
   "outputs": [
    {
     "name": "stdout",
     "output_type": "stream",
     "text": [
      "\n",
      "Starting GridSearchCV for SVM (this may take a while)...\n",
      "Fitting 3 folds for each of 18 candidates, totalling 54 fits\n",
      "\n",
      "GridSearchCV for SVM finished.\n",
      "Best Parameters found: {'classifier__C': 0.1, 'classifier__gamma': 'scale', 'classifier__kernel': 'linear'}\n",
      "Best Cross-Validation ROC AUC Score: 0.8357\n",
      "\n",
      "--- Evaluation of Best SVM Model (from GridSearchCV) on Test Set ---\n",
      "Accuracy: 0.7153\n"
     ]
    },
    {
     "data": {
      "image/png": "[encoded data removed]",
      "text/plain": [
       "<Figure size 640x480 with 2 Axes>"
      ]
     },
     "metadata": {},
     "output_type": "display_data"
    },
    {
     "name": "stdout",
     "output_type": "stream",
     "text": [
      "               precision    recall  f1-score   support\n",
      "\n",
      "No Stroke (0)       0.99      0.71      0.83       972\n",
      "   Stroke (1)       0.13      0.82      0.22        50\n",
      "\n",
      "     accuracy                           0.72      1022\n",
      "    macro avg       0.56      0.76      0.52      1022\n",
      " weighted avg       0.95      0.72      0.80      1022\n",
      "\n",
      "ROC AUC Score on Test Set (Best SVM): 0.8386\n"
     ]
    }
   ],
   "source": [
    "# Cell 7: Hyperparameter Tuning with GridSearchCV for SVM\n",
    "if 'preprocessor' in locals() and 'X_train' in locals(): # GridSearch is usually done on the training set\n",
    "    \n",
    "    # Define the pipeline (GridSearchCV will handle fitting this pipeline)\n",
    "    svm_pipeline_for_grid = Pipeline([\n",
    "        ('preprocessor', preprocessor),\n",
    "        ('classifier', SVC(probability=True, random_state=42, class_weight='balanced'))\n",
    "    ])\n",
    "\n",
    "    # Define the parameter grid to search\n",
    "    # This is a small grid for demonstration; in practice, grids can be larger.\n",
    "    param_grid = {\n",
    "        'classifier__kernel': ['linear', 'rbf'], # Testing linear and RBF kernels\n",
    "        'classifier__C': [0.1, 1, 10],          # Testing different values for C\n",
    "        'classifier__gamma': ['scale', 'auto', 0.1] # Testing different gammas (only for rbf)\n",
    "                                                    # 'scale' and 'auto' are good defaults\n",
    "    }\n",
    "    # Note: 'gamma' is only used by 'rbf', 'poly', 'sigmoid' kernels.\n",
    "    # GridSearchCV is smart enough to ignore gamma if kernel is 'linear'.\n",
    "\n",
    "    # Create GridSearchCV object\n",
    "    # cv=3 for faster demo, 5 is common. Scoring again with roc_auc.\n",
    "    # n_jobs=-1 uses all available CPU cores to speed up.\n",
    "    cv_strategy_grid = StratifiedKFold(n_splits=3, shuffle=True, random_state=42)\n",
    "    grid_search_svm = GridSearchCV(estimator=svm_pipeline_for_grid, \n",
    "                                   param_grid=param_grid, \n",
    "                                   cv=cv_strategy_grid, \n",
    "                                   scoring='roc_auc', # Or your preferred metric like recall_scorer_stroke\n",
    "                                   verbose=1, # Shows progress\n",
    "                                   n_jobs=-1) \n",
    "\n",
    "    print(\"\\nStarting GridSearchCV for SVM (this may take a while)...\")\n",
    "    grid_search_svm.fit(X_train, y_train) # Fit on the training data\n",
    "\n",
    "    print(\"\\nGridSearchCV for SVM finished.\")\n",
    "    print(f\"Best Parameters found: {grid_search_svm.best_params_}\")\n",
    "    print(f\"Best Cross-Validation ROC AUC Score: {grid_search_svm.best_score_:.4f}\")\n",
    "\n",
    "    # Evaluate the best model found by GridSearchCV on the TEST set\n",
    "    best_svm_model = grid_search_svm.best_estimator_ # This is the refitted pipeline with best params\n",
    "    y_pred_svm_best = best_svm_model.predict(X_test)\n",
    "    y_pred_proba_svm_best = best_svm_model.predict_proba(X_test)[:, 1]\n",
    "\n",
    "    print(\"\\n--- Evaluation of Best SVM Model (from GridSearchCV) on Test Set ---\")\n",
    "    print(f\"Accuracy: {accuracy_score(y_test, y_pred_svm_best):.4f}\")\n",
    "    cm_svm_best = confusion_matrix(y_test, y_pred_svm_best)\n",
    "    sns.heatmap(cm_svm_best, annot=True, fmt='d', cmap='viridis')\n",
    "    plt.title('Confusion Matrix (Best SVM)')\n",
    "    plt.xlabel('Predicted')\n",
    "    plt.ylabel('Actual')\n",
    "    plt.show()\n",
    "    print(classification_report(y_test, y_pred_svm_best, target_names=['No Stroke (0)', 'Stroke (1)']))\n",
    "    roc_auc_svm_best_test = roc_auc_score(y_test, y_pred_proba_svm_best)\n",
    "    print(f\"ROC AUC Score on Test Set (Best SVM): {roc_auc_svm_best_test:.4f}\")"
   ]
  }
 ],
 "metadata": {
  "kernelspec": {
   "display_name": ".venv",
   "language": "python",
   "name": "python3"
  },
  "language_info": {
   "codemirror_mode": {
    "name": "ipython",
    "version": 3
   },
   "file_extension": ".py",
   "mimetype": "text/x-python",
   "name": "python",
   "nbconvert_exporter": "python",
   "pygments_lexer": "ipython3",
   "version": "3.12.3"
  }
 },
 "nbformat": 4,
 "nbformat_minor": 5
}
