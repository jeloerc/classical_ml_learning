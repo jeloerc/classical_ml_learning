{
 "cells": [
  {
   "cell_type": "markdown",
   "id": "82a51555",
   "metadata": {},
   "source": []
  },
  {
   "cell_type": "code",
   "execution_count": 4,
   "id": "74a2a36f",
   "metadata": {},
   "outputs": [
    {
     "name": "stdout",
     "output_type": "stream",
     "text": [
      "Libraries imported.\n",
      "Error: File not found at \n"
     ]
    }
   ],
   "source": [
    "# Cell 1: Imports (add SVM and cross-validation tools)\n",
    "import pandas as pd\n",
    "import numpy as np\n",
    "import matplotlib.pyplot as plt\n",
    "import seaborn as sns\n",
    "\n",
    "from sklearn.model_selection import train_test_split, cross_val_score, GridSearchCV, StratifiedKFold\n",
    "from sklearn.svm import SVC # Support Vector Classifier\n",
    "from sklearn.preprocessing import StandardScaler, OneHotEncoder\n",
    "from sklearn.compose import ColumnTransformer\n",
    "from sklearn.pipeline import Pipeline\n",
    "from sklearn.metrics import accuracy_score, confusion_matrix, classification_report, roc_auc_score\n",
    "\n",
    "sns.set_theme(style=\"whitegrid\")\n",
    "pd.set_option('display.max_columns', None)\n",
    "print(\"Libraries imported.\")\n",
    "# Cell 2: Load and Initial Prep (Stroke Dataset - same as before)\n",
    "file_path = '' # Adjust path if needed\n",
    "try:\n",
    "    stroke_df = pd.read_csv(file_path)\n",
    "    if 'id' in stroke_df.columns: stroke_df.drop('id', axis=1, inplace=True)\n",
    "    if 'gender' in stroke_df.columns and 'Other' in stroke_df['gender'].unique():\n",
    "        stroke_df = stroke_df[stroke_df['gender'] != 'Other']\n",
    "    if 'bmi' in stroke_df.columns: stroke_df['bmi'].fillna(stroke_df['bmi'].median(), inplace=True)\n",
    "    print(\"Dataset loaded and prepped.\")\n",
    "    X = stroke_df.drop('stroke', axis=1)\n",
    "    y = stroke_df['stroke']\n",
    "except FileNotFoundError:\n",
    "    print(f\"Error: File not found at {file_path}\")\n",
    "    X, y = None, None\n",
    "\n",
    "# Cell 3: Define Preprocessor (same as before)\n",
    "if X is not None:\n",
    "    categorical_features = X.select_dtypes(include=['object', 'category']).columns\n",
    "    numerical_features = X.select_dtypes(include=np.number).columns\n",
    "    preprocessor = ColumnTransformer([\n",
    "        ('num', StandardScaler(), numerical_features),\n",
    "        ('cat', OneHotEncoder(handle_unknown='ignore', drop='first'), categorical_features)\n",
    "    ])\n",
    "    print(\"Preprocessor defined.\")"
   ]
  }
 ],
 "metadata": {
  "kernelspec": {
   "display_name": ".venv",
   "language": "python",
   "name": "python3"
  },
  "language_info": {
   "codemirror_mode": {
    "name": "ipython",
    "version": 3
   },
   "file_extension": ".py",
   "mimetype": "text/x-python",
   "name": "python",
   "nbconvert_exporter": "python",
   "pygments_lexer": "ipython3",
   "version": "3.12.3"
  }
 },
 "nbformat": 4,
 "nbformat_minor": 5
}
